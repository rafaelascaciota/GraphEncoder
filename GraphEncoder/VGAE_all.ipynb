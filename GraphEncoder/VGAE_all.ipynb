{
 "cells": [
  {
   "cell_type": "markdown",
   "source": [
    "## VGAE applied in a graph form from pairs of frames concatenated to form single input"
   ],
   "metadata": {
    "collapsed": false
   }
  },
  {
   "cell_type": "code",
   "execution_count": 12,
   "outputs": [],
   "source": [
    "%reset"
   ],
   "metadata": {
    "collapsed": false
   }
  },
  {
   "cell_type": "markdown",
   "source": [
    "### Install packets that we use for the GVAE"
   ],
   "metadata": {
    "collapsed": false
   }
  },
  {
   "cell_type": "code",
   "execution_count": 24,
   "outputs": [
    {
     "name": "stderr",
     "output_type": "stream",
     "text": [
      "WARNING: Ignoring invalid distribution -yrsistent (c:\\program files\\python39\\lib\\site-packages)\n",
      "WARNING: Ignoring invalid distribution -illow (c:\\program files\\python39\\lib\\site-packages)\n",
      "WARNING: Ignoring invalid distribution -yrsistent (c:\\program files\\python39\\lib\\site-packages)\n",
      "WARNING: Ignoring invalid distribution -illow (c:\\program files\\python39\\lib\\site-packages)\n",
      "WARNING: Ignoring invalid distribution -yrsistent (c:\\program files\\python39\\lib\\site-packages)\n",
      "WARNING: Ignoring invalid distribution -illow (c:\\program files\\python39\\lib\\site-packages)\n",
      "WARNING: Ignoring invalid distribution -yrsistent (c:\\program files\\python39\\lib\\site-packages)\n",
      "WARNING: Ignoring invalid distribution -illow (c:\\program files\\python39\\lib\\site-packages)\n",
      "WARNING: Ignoring invalid distribution -yrsistent (c:\\program files\\python39\\lib\\site-packages)\n",
      "WARNING: Ignoring invalid distribution -illow (c:\\program files\\python39\\lib\\site-packages)\n",
      "WARNING: Ignoring invalid distribution -yrsistent (c:\\program files\\python39\\lib\\site-packages)\n",
      "WARNING: Ignoring invalid distribution -illow (c:\\program files\\python39\\lib\\site-packages)\n",
      "WARNING: Ignoring invalid distribution -yrsistent (c:\\program files\\python39\\lib\\site-packages)\n",
      "WARNING: Ignoring invalid distribution -illow (c:\\program files\\python39\\lib\\site-packages)\n",
      "WARNING: Ignoring invalid distribution -yrsistent (c:\\program files\\python39\\lib\\site-packages)\n",
      "WARNING: Ignoring invalid distribution -illow (c:\\program files\\python39\\lib\\site-packages)\n",
      "WARNING: Ignoring invalid distribution -yrsistent (c:\\program files\\python39\\lib\\site-packages)\n",
      "WARNING: Ignoring invalid distribution -illow (c:\\program files\\python39\\lib\\site-packages)\n",
      "WARNING: Ignoring invalid distribution -yrsistent (c:\\program files\\python39\\lib\\site-packages)\n",
      "WARNING: Ignoring invalid distribution -illow (c:\\program files\\python39\\lib\\site-packages)\n",
      "WARNING: Ignoring invalid distribution -yrsistent (c:\\program files\\python39\\lib\\site-packages)\n",
      "WARNING: Ignoring invalid distribution -illow (c:\\program files\\python39\\lib\\site-packages)\n",
      "WARNING: Ignoring invalid distribution -yrsistent (c:\\program files\\python39\\lib\\site-packages)\n",
      "WARNING: Ignoring invalid distribution -illow (c:\\program files\\python39\\lib\\site-packages)\n",
      "WARNING: Ignoring invalid distribution -yrsistent (c:\\program files\\python39\\lib\\site-packages)\n",
      "WARNING: Ignoring invalid distribution -illow (c:\\program files\\python39\\lib\\site-packages)\n",
      "WARNING: Ignoring invalid distribution -yrsistent (c:\\program files\\python39\\lib\\site-packages)\n",
      "WARNING: Ignoring invalid distribution -illow (c:\\program files\\python39\\lib\\site-packages)\n",
      "WARNING: Ignoring invalid distribution -yrsistent (c:\\program files\\python39\\lib\\site-packages)\n",
      "WARNING: Ignoring invalid distribution -illow (c:\\program files\\python39\\lib\\site-packages)\n",
      "WARNING: Ignoring invalid distribution -yrsistent (c:\\program files\\python39\\lib\\site-packages)\n",
      "WARNING: Ignoring invalid distribution -illow (c:\\program files\\python39\\lib\\site-packages)\n",
      "WARNING: Ignoring invalid distribution -yrsistent (c:\\program files\\python39\\lib\\site-packages)\n",
      "WARNING: Ignoring invalid distribution -illow (c:\\program files\\python39\\lib\\site-packages)\n",
      "WARNING: Ignoring invalid distribution -yrsistent (c:\\program files\\python39\\lib\\site-packages)\n",
      "WARNING: Ignoring invalid distribution -illow (c:\\program files\\python39\\lib\\site-packages)\n",
      "WARNING: Ignoring invalid distribution -yrsistent (c:\\program files\\python39\\lib\\site-packages)\n",
      "WARNING: Ignoring invalid distribution -illow (c:\\program files\\python39\\lib\\site-packages)\n",
      "WARNING: Ignoring invalid distribution -yrsistent (c:\\program files\\python39\\lib\\site-packages)\n",
      "WARNING: Ignoring invalid distribution -illow (c:\\program files\\python39\\lib\\site-packages)\n",
      "WARNING: Ignoring invalid distribution -yrsistent (c:\\program files\\python39\\lib\\site-packages)\n",
      "WARNING: Ignoring invalid distribution -illow (c:\\program files\\python39\\lib\\site-packages)\n",
      "WARNING: Ignoring invalid distribution -yrsistent (c:\\program files\\python39\\lib\\site-packages)\n",
      "WARNING: Ignoring invalid distribution -illow (c:\\program files\\python39\\lib\\site-packages)\n",
      "WARNING: Ignoring invalid distribution -yrsistent (c:\\program files\\python39\\lib\\site-packages)\n",
      "WARNING: Ignoring invalid distribution -illow (c:\\program files\\python39\\lib\\site-packages)\n",
      "WARNING: Ignoring invalid distribution -yrsistent (c:\\program files\\python39\\lib\\site-packages)\n",
      "WARNING: Ignoring invalid distribution -illow (c:\\program files\\python39\\lib\\site-packages)\n",
      "WARNING: Ignoring invalid distribution -yrsistent (c:\\program files\\python39\\lib\\site-packages)\n",
      "WARNING: Ignoring invalid distribution -illow (c:\\program files\\python39\\lib\\site-packages)\n"
     ]
    }
   ],
   "source": [
    "!pip install -q torch-scatter -f https://pytorch-geometric.com/whl/torch-1.8.0+cu101.html\n",
    "!pip install -q torch-sparse -f https://pytorch-geometric.com/whl/torch-1.8.0+cu101.html\n",
    "!pip install -q torch-geometric"
   ],
   "metadata": {
    "collapsed": false
   }
  },
  {
   "cell_type": "code",
   "execution_count": 50,
   "outputs": [],
   "source": [
    "# importing packages\n",
    "import numpy as np\n",
    "import scipy as sp\n",
    "from sklearn.cluster import spectral_clustering\n",
    "from sklearn.feature_extraction import image\n",
    "import cv2\n",
    "import matplotlib.pyplot as plt\n",
    "from skimage.transform import resize\n",
    "import os\n",
    "from os.path import join\n",
    "import networkx as nx\n",
    "import scipy.sparse\n",
    "import glob"
   ],
   "metadata": {
    "collapsed": false
   }
  },
  {
   "cell_type": "markdown",
   "source": [
    "## 1. Creating the dataset with frames"
   ],
   "metadata": {
    "collapsed": false
   }
  },
  {
   "cell_type": "code",
   "execution_count": 51,
   "outputs": [
    {
     "name": "stdout",
     "output_type": "stream",
     "text": [
      "Testing steps: 29 rewards -148.17218662487778: \n"
     ]
    },
    {
     "name": "stderr",
     "output_type": "stream",
     "text": [
      "C:\\Program Files\\Python39\\lib\\site-packages\\gym\\spaces\\box.py:127: UserWarning: \u001B[33mWARN: Box bound precision lowered by casting to float32\u001B[0m\n",
      "  logger.warn(f\"Box bound precision lowered by casting to {self.dtype}\")\n"
     ]
    }
   ],
   "source": [
    "dir = r'C:\\Users\\rscaciot22\\OneDrive - Oulun yliopisto\\Documents\\2022\\GRAPH_ENCODER\\Simulation\\cart-pole-main\\GraphEncoder'\n",
    "os.chdir(dir)\n",
    "!python ./cart_pole_discreet.py"
   ],
   "metadata": {
    "collapsed": false
   }
  },
  {
   "cell_type": "markdown",
   "source": [
    "## 2. Convert images to graph"
   ],
   "metadata": {
    "collapsed": false
   }
  },
  {
   "cell_type": "code",
   "execution_count": 55,
   "outputs": [],
   "source": [
    "# Apply spectral clustering (this step goes much faster if you have pyamg\n",
    "# installed)\n",
    "N_REGIONS = 25\n",
    "beta = 5\n",
    "eps = 1e-6\n",
    "p = 0.1"
   ],
   "metadata": {
    "collapsed": false
   }
  },
  {
   "cell_type": "code",
   "execution_count": 56,
   "outputs": [
    {
     "name": "stdout",
     "output_type": "stream",
     "text": [
      "C:\\Users\\rscaciot22\\OneDrive - Oulun yliopisto\\Documents\\2022\\GRAPH_ENCODER\\Simulation\\cart-pole-main\\GraphEncoder\\./data/S4\n",
      "C:\\Users\\rscaciot22\\OneDrive - Oulun yliopisto\\Documents\\2022\\GRAPH_ENCODER\\Simulation\\cart-pole-main\\GraphEncoder\\./graph/\n",
      "S4\n",
      "File count: 29\n"
     ]
    }
   ],
   "source": [
    "cam = os.path.join(dir, './data/')\n",
    "latest_subdir = max([os.path.join(cam,d) for d in os.listdir(cam)], key=os.path.getmtime)\n",
    "print(str(latest_subdir))\n",
    "folder = latest_subdir\n",
    "count = 0\n",
    "steps = 0\n",
    "maxPixel= 12\n",
    "imageSize = maxPixel * maxPixel\n",
    "num_features = imageSize\n",
    "\n",
    "cam_graph = os.path.join(dir, './graph/')\n",
    "print(str(cam_graph))\n",
    "all_folders = os.listdir(cam_graph)\n",
    "os.chdir(cam_graph)\n",
    "retval = os.getcwd()\n",
    "all_folders.sort()\n",
    "latest = all_folders[-1].replace('S', '')\n",
    "new = int(latest) + 1\n",
    "mydir = 'S'+str(new)\n",
    "print(str(mydir))\n",
    "os.makedirs(mydir)\n",
    "\n",
    "# Iterate directory\n",
    "for path in os.listdir(folder):\n",
    "    # check if current path is a file\n",
    "    if os.path.isfile(os.path.join(folder, path)):\n",
    "        count += 1\n",
    "print('File count:', count)\n"
   ],
   "metadata": {
    "collapsed": false
   }
  },
  {
   "cell_type": "code",
   "execution_count": 57,
   "outputs": [
    {
     "name": "stdout",
     "output_type": "stream",
     "text": [
      "0\n",
      "0\n",
      "C:\\Users\\rscaciot22\\OneDrive - Oulun yliopisto\\Documents\\2022\\GRAPH_ENCODER\\Simulation\\cart-pole-main\\GraphEncoder\\./data/S4\\Frame0.png\n",
      "img_processing.size= 240000\n",
      "img_processing.size= 144\n",
      "(12, 12)\n",
      "(12, 12)\n",
      "1\n",
      "1\n",
      "C:\\Users\\rscaciot22\\OneDrive - Oulun yliopisto\\Documents\\2022\\GRAPH_ENCODER\\Simulation\\cart-pole-main\\GraphEncoder\\./data/S4\\Frame1.png\n",
      "img_processing.size= 240000\n",
      "img_processing.size= 144\n",
      "(12, 12)\n",
      "(12, 12)\n",
      "2\n",
      "2\n",
      "C:\\Users\\rscaciot22\\OneDrive - Oulun yliopisto\\Documents\\2022\\GRAPH_ENCODER\\Simulation\\cart-pole-main\\GraphEncoder\\./data/S4\\Frame2.png\n",
      "img_processing.size= 240000\n",
      "img_processing.size= 144\n",
      "(12, 12)\n",
      "(12, 12)\n",
      "3\n",
      "3\n",
      "C:\\Users\\rscaciot22\\OneDrive - Oulun yliopisto\\Documents\\2022\\GRAPH_ENCODER\\Simulation\\cart-pole-main\\GraphEncoder\\./data/S4\\Frame3.png\n",
      "img_processing.size= 240000\n",
      "img_processing.size= 144\n",
      "(12, 12)\n",
      "(12, 12)\n",
      "4\n",
      "4\n",
      "C:\\Users\\rscaciot22\\OneDrive - Oulun yliopisto\\Documents\\2022\\GRAPH_ENCODER\\Simulation\\cart-pole-main\\GraphEncoder\\./data/S4\\Frame4.png\n",
      "img_processing.size= 240000\n",
      "img_processing.size= 144\n",
      "(12, 12)\n",
      "(12, 12)\n",
      "5\n",
      "5\n",
      "C:\\Users\\rscaciot22\\OneDrive - Oulun yliopisto\\Documents\\2022\\GRAPH_ENCODER\\Simulation\\cart-pole-main\\GraphEncoder\\./data/S4\\Frame5.png\n",
      "img_processing.size= 240000\n",
      "img_processing.size= 144\n",
      "(12, 12)\n",
      "(12, 12)\n",
      "6\n",
      "6\n",
      "C:\\Users\\rscaciot22\\OneDrive - Oulun yliopisto\\Documents\\2022\\GRAPH_ENCODER\\Simulation\\cart-pole-main\\GraphEncoder\\./data/S4\\Frame6.png\n",
      "img_processing.size= 240000\n",
      "img_processing.size= 144\n",
      "(12, 12)\n",
      "(12, 12)\n",
      "7\n",
      "7\n",
      "C:\\Users\\rscaciot22\\OneDrive - Oulun yliopisto\\Documents\\2022\\GRAPH_ENCODER\\Simulation\\cart-pole-main\\GraphEncoder\\./data/S4\\Frame7.png\n",
      "img_processing.size= 240000\n",
      "img_processing.size= 144\n",
      "(12, 12)\n",
      "(12, 12)\n",
      "8\n",
      "8\n",
      "C:\\Users\\rscaciot22\\OneDrive - Oulun yliopisto\\Documents\\2022\\GRAPH_ENCODER\\Simulation\\cart-pole-main\\GraphEncoder\\./data/S4\\Frame8.png\n",
      "img_processing.size= 240000\n",
      "img_processing.size= 144\n",
      "(12, 12)\n",
      "(12, 12)\n",
      "9\n",
      "9\n",
      "C:\\Users\\rscaciot22\\OneDrive - Oulun yliopisto\\Documents\\2022\\GRAPH_ENCODER\\Simulation\\cart-pole-main\\GraphEncoder\\./data/S4\\Frame9.png\n",
      "img_processing.size= 240000\n",
      "img_processing.size= 144\n",
      "(12, 12)\n",
      "(12, 12)\n",
      "10\n",
      "10\n",
      "C:\\Users\\rscaciot22\\OneDrive - Oulun yliopisto\\Documents\\2022\\GRAPH_ENCODER\\Simulation\\cart-pole-main\\GraphEncoder\\./data/S4\\Frame10.png\n",
      "img_processing.size= 240000\n",
      "img_processing.size= 144\n",
      "(12, 12)\n",
      "(12, 12)\n",
      "11\n",
      "11\n",
      "C:\\Users\\rscaciot22\\OneDrive - Oulun yliopisto\\Documents\\2022\\GRAPH_ENCODER\\Simulation\\cart-pole-main\\GraphEncoder\\./data/S4\\Frame11.png\n",
      "img_processing.size= 240000\n",
      "img_processing.size= 144\n",
      "(12, 12)\n",
      "(12, 12)\n",
      "12\n",
      "12\n",
      "C:\\Users\\rscaciot22\\OneDrive - Oulun yliopisto\\Documents\\2022\\GRAPH_ENCODER\\Simulation\\cart-pole-main\\GraphEncoder\\./data/S4\\Frame12.png\n",
      "img_processing.size= 240000\n",
      "img_processing.size= 144\n",
      "(12, 12)\n",
      "(12, 12)\n",
      "13\n",
      "13\n",
      "C:\\Users\\rscaciot22\\OneDrive - Oulun yliopisto\\Documents\\2022\\GRAPH_ENCODER\\Simulation\\cart-pole-main\\GraphEncoder\\./data/S4\\Frame13.png\n",
      "img_processing.size= 240000\n",
      "img_processing.size= 144\n",
      "(12, 12)\n",
      "(12, 12)\n",
      "14\n",
      "14\n",
      "C:\\Users\\rscaciot22\\OneDrive - Oulun yliopisto\\Documents\\2022\\GRAPH_ENCODER\\Simulation\\cart-pole-main\\GraphEncoder\\./data/S4\\Frame14.png\n",
      "img_processing.size= 240000\n",
      "img_processing.size= 144\n",
      "(12, 12)\n",
      "(12, 12)\n",
      "15\n",
      "15\n",
      "C:\\Users\\rscaciot22\\OneDrive - Oulun yliopisto\\Documents\\2022\\GRAPH_ENCODER\\Simulation\\cart-pole-main\\GraphEncoder\\./data/S4\\Frame15.png\n",
      "img_processing.size= 240000\n",
      "img_processing.size= 144\n",
      "(12, 12)\n",
      "(12, 12)\n",
      "16\n",
      "16\n",
      "C:\\Users\\rscaciot22\\OneDrive - Oulun yliopisto\\Documents\\2022\\GRAPH_ENCODER\\Simulation\\cart-pole-main\\GraphEncoder\\./data/S4\\Frame16.png\n",
      "img_processing.size= 240000\n",
      "img_processing.size= 144\n",
      "(12, 12)\n",
      "(12, 12)\n",
      "17\n",
      "17\n",
      "C:\\Users\\rscaciot22\\OneDrive - Oulun yliopisto\\Documents\\2022\\GRAPH_ENCODER\\Simulation\\cart-pole-main\\GraphEncoder\\./data/S4\\Frame17.png\n",
      "img_processing.size= 240000\n",
      "img_processing.size= 144\n",
      "(12, 12)\n",
      "(12, 12)\n",
      "18\n",
      "18\n",
      "C:\\Users\\rscaciot22\\OneDrive - Oulun yliopisto\\Documents\\2022\\GRAPH_ENCODER\\Simulation\\cart-pole-main\\GraphEncoder\\./data/S4\\Frame18.png\n",
      "img_processing.size= 240000\n",
      "img_processing.size= 144\n",
      "(12, 12)\n",
      "(12, 12)\n",
      "19\n",
      "19\n",
      "C:\\Users\\rscaciot22\\OneDrive - Oulun yliopisto\\Documents\\2022\\GRAPH_ENCODER\\Simulation\\cart-pole-main\\GraphEncoder\\./data/S4\\Frame19.png\n",
      "img_processing.size= 240000\n",
      "img_processing.size= 144\n",
      "(12, 12)\n",
      "(12, 12)\n",
      "20\n",
      "20\n",
      "C:\\Users\\rscaciot22\\OneDrive - Oulun yliopisto\\Documents\\2022\\GRAPH_ENCODER\\Simulation\\cart-pole-main\\GraphEncoder\\./data/S4\\Frame20.png\n",
      "img_processing.size= 240000\n",
      "img_processing.size= 144\n",
      "(12, 12)\n",
      "(12, 12)\n",
      "21\n",
      "21\n",
      "C:\\Users\\rscaciot22\\OneDrive - Oulun yliopisto\\Documents\\2022\\GRAPH_ENCODER\\Simulation\\cart-pole-main\\GraphEncoder\\./data/S4\\Frame21.png\n",
      "img_processing.size= 240000\n",
      "img_processing.size= 144\n",
      "(12, 12)\n",
      "(12, 12)\n",
      "22\n",
      "22\n",
      "C:\\Users\\rscaciot22\\OneDrive - Oulun yliopisto\\Documents\\2022\\GRAPH_ENCODER\\Simulation\\cart-pole-main\\GraphEncoder\\./data/S4\\Frame22.png\n",
      "img_processing.size= 240000\n",
      "img_processing.size= 144\n",
      "(12, 12)\n",
      "(12, 12)\n",
      "23\n",
      "23\n",
      "C:\\Users\\rscaciot22\\OneDrive - Oulun yliopisto\\Documents\\2022\\GRAPH_ENCODER\\Simulation\\cart-pole-main\\GraphEncoder\\./data/S4\\Frame23.png\n",
      "img_processing.size= 240000\n",
      "img_processing.size= 144\n",
      "(12, 12)\n",
      "(12, 12)\n",
      "24\n",
      "24\n",
      "C:\\Users\\rscaciot22\\OneDrive - Oulun yliopisto\\Documents\\2022\\GRAPH_ENCODER\\Simulation\\cart-pole-main\\GraphEncoder\\./data/S4\\Frame24.png\n",
      "img_processing.size= 240000\n",
      "img_processing.size= 144\n",
      "(12, 12)\n",
      "(12, 12)\n",
      "25\n",
      "25\n",
      "C:\\Users\\rscaciot22\\OneDrive - Oulun yliopisto\\Documents\\2022\\GRAPH_ENCODER\\Simulation\\cart-pole-main\\GraphEncoder\\./data/S4\\Frame25.png\n",
      "img_processing.size= 240000\n",
      "img_processing.size= 144\n",
      "(12, 12)\n",
      "(12, 12)\n",
      "26\n",
      "26\n",
      "C:\\Users\\rscaciot22\\OneDrive - Oulun yliopisto\\Documents\\2022\\GRAPH_ENCODER\\Simulation\\cart-pole-main\\GraphEncoder\\./data/S4\\Frame26.png\n",
      "img_processing.size= 240000\n",
      "img_processing.size= 144\n",
      "(12, 12)\n",
      "(12, 12)\n",
      "27\n",
      "27\n",
      "C:\\Users\\rscaciot22\\OneDrive - Oulun yliopisto\\Documents\\2022\\GRAPH_ENCODER\\Simulation\\cart-pole-main\\GraphEncoder\\./data/S4\\Frame27.png\n",
      "img_processing.size= 240000\n",
      "img_processing.size= 144\n",
      "(12, 12)\n",
      "(12, 12)\n",
      "28\n",
      "28\n",
      "C:\\Users\\rscaciot22\\OneDrive - Oulun yliopisto\\Documents\\2022\\GRAPH_ENCODER\\Simulation\\cart-pole-main\\GraphEncoder\\./data/S4\\Frame28.png\n",
      "img_processing.size= 240000\n",
      "img_processing.size= 144\n",
      "(12, 12)\n",
      "(12, 12)\n"
     ]
    }
   ],
   "source": [
    "for f in range(count):\n",
    "    print(str(steps))\n",
    "    print(str(f))\n",
    "    # reading image\n",
    "    data = 'Frame' + str(steps) + '.png'\n",
    "    path = join(folder, data)\n",
    "    print(path)\n",
    "    def read_image():\n",
    "        img = cv2.imread(path, 0)\n",
    "        return img\n",
    "\n",
    "    cartpole = read_image()\n",
    "    print (\"img_processing.size=\",cartpole.size)\n",
    "    imageSize=maxPixel*maxPixel\n",
    "    cartpole = resize(cartpole, (maxPixel, maxPixel))\n",
    "    print (\"img_processing.size=\",cartpole.size)\n",
    "    # Downsample the image by a factor of 4\n",
    "    print(cartpole.shape)\n",
    "    mask = cartpole.astype(bool)\n",
    "    cartpole = cartpole.astype(float)\n",
    "    print(cartpole.shape)\n",
    "\n",
    "    # Convert the image into a graph with the value of the gradient on the\n",
    "    # edges.\n",
    "    import random\n",
    "\n",
    "    if True:\n",
    "        graph = image.img_to_graph(cartpole, mask=mask, return_as=np.ndarray)\n",
    "        arr = image.img_to_graph(cartpole, mask=mask, return_as=np.ndarray)\n",
    "        graph1 = image.img_to_graph(cartpole)\n",
    "\n",
    "        G = nx.from_numpy_array(arr)\n",
    "        G.edges(data=True)\n",
    "\n",
    "        row = []\n",
    "        col = []\n",
    "        data = []\n",
    "\n",
    "        for i in range(graph.shape[0]):\n",
    "            for j in range(graph.shape[1]):\n",
    "                if graph[i][j] != 0:\n",
    "                    row.append(i)\n",
    "                    col.append(j)\n",
    "                    data.append(graph[i][j])\n",
    "\n",
    "        graph = sp.sparse.coo_matrix((data, (row,col)), shape=graph.shape, dtype = float)\n",
    "    else:\n",
    "        graph = image.img_to_graph(cartpole)\n",
    "\n",
    "    # Take a decreasing function of the gradient: an exponential\n",
    "    # The smaller beta is, the more independent the segmentation is of the\n",
    "    # actual image. For beta=1, the segmentation is close to a voronoi\n",
    "    graph.data = np.exp(-beta * graph.data / cartpole.std()) + eps\n",
    "    # use the tofile() method\n",
    "    # and use ',' as a separator\n",
    "    # as we have to generate a csv file\n",
    "    arr.tofile(str(mydir) + '\\g'+ str(steps)+'.csv', sep = ',')\n",
    "    # save in graphml\n",
    "    nx.write_graphml_lxml(G, str(mydir) + '\\g'+ str(steps)+'.graphml')\n",
    "    # save in npz\n",
    "    scipy.sparse.save_npz(str(mydir) + '\\g'+ str(steps)+'.npz', graph)\n",
    "    steps += 1\n",
    "f += 1"
   ],
   "metadata": {
    "collapsed": false
   }
  },
  {
   "cell_type": "markdown",
   "source": [
    "## 3. Concatenating graphs to have one input"
   ],
   "metadata": {
    "collapsed": false
   }
  },
  {
   "cell_type": "code",
   "execution_count": 58,
   "outputs": [
    {
     "name": "stdout",
     "output_type": "stream",
     "text": [
      "C:\\Users\\rscaciot22\\OneDrive - Oulun yliopisto\\Documents\\2022\\GRAPH_ENCODER\\Simulation\\cart-pole-main\\GraphEncoder\\./graph/S4\n",
      "File count .graphml: 29\n"
     ]
    }
   ],
   "source": [
    "folder = str(cam_graph) + str(mydir)\n",
    "f = 0\n",
    "F = nx.Graph()\n",
    "print(str(folder))\n",
    "# Iterate directory\n",
    "counter= len(glob.glob1(folder,\"*.graphml\"))\n",
    "print('File count .graphml:', counter)\n",
    "\n",
    "cmap = plt.get_cmap('plasma')"
   ],
   "metadata": {
    "collapsed": false
   }
  },
  {
   "cell_type": "code",
   "execution_count": 59,
   "outputs": [
    {
     "name": "stdout",
     "output_type": "stream",
     "text": [
      "C:\\Users\\rscaciot22\\OneDrive - Oulun yliopisto\\Documents\\2022\\GRAPH_ENCODER\\Simulation\\cart-pole-main\\GraphEncoder\\./graph/S4\\g0.graphml\n",
      "C:\\Users\\rscaciot22\\OneDrive - Oulun yliopisto\\Documents\\2022\\GRAPH_ENCODER\\Simulation\\cart-pole-main\\GraphEncoder\\./graph/S4\\g1.graphml\n",
      "C:\\Users\\rscaciot22\\OneDrive - Oulun yliopisto\\Documents\\2022\\GRAPH_ENCODER\\Simulation\\cart-pole-main\\GraphEncoder\\./graph/S4\\g2.graphml\n",
      "C:\\Users\\rscaciot22\\OneDrive - Oulun yliopisto\\Documents\\2022\\GRAPH_ENCODER\\Simulation\\cart-pole-main\\GraphEncoder\\./graph/S4\\g3.graphml\n",
      "C:\\Users\\rscaciot22\\OneDrive - Oulun yliopisto\\Documents\\2022\\GRAPH_ENCODER\\Simulation\\cart-pole-main\\GraphEncoder\\./graph/S4\\g4.graphml\n",
      "C:\\Users\\rscaciot22\\OneDrive - Oulun yliopisto\\Documents\\2022\\GRAPH_ENCODER\\Simulation\\cart-pole-main\\GraphEncoder\\./graph/S4\\g5.graphml\n",
      "C:\\Users\\rscaciot22\\OneDrive - Oulun yliopisto\\Documents\\2022\\GRAPH_ENCODER\\Simulation\\cart-pole-main\\GraphEncoder\\./graph/S4\\g6.graphml\n",
      "C:\\Users\\rscaciot22\\OneDrive - Oulun yliopisto\\Documents\\2022\\GRAPH_ENCODER\\Simulation\\cart-pole-main\\GraphEncoder\\./graph/S4\\g7.graphml\n",
      "C:\\Users\\rscaciot22\\OneDrive - Oulun yliopisto\\Documents\\2022\\GRAPH_ENCODER\\Simulation\\cart-pole-main\\GraphEncoder\\./graph/S4\\g8.graphml\n",
      "C:\\Users\\rscaciot22\\OneDrive - Oulun yliopisto\\Documents\\2022\\GRAPH_ENCODER\\Simulation\\cart-pole-main\\GraphEncoder\\./graph/S4\\g9.graphml\n",
      "C:\\Users\\rscaciot22\\OneDrive - Oulun yliopisto\\Documents\\2022\\GRAPH_ENCODER\\Simulation\\cart-pole-main\\GraphEncoder\\./graph/S4\\g10.graphml\n",
      "C:\\Users\\rscaciot22\\OneDrive - Oulun yliopisto\\Documents\\2022\\GRAPH_ENCODER\\Simulation\\cart-pole-main\\GraphEncoder\\./graph/S4\\g11.graphml\n",
      "C:\\Users\\rscaciot22\\OneDrive - Oulun yliopisto\\Documents\\2022\\GRAPH_ENCODER\\Simulation\\cart-pole-main\\GraphEncoder\\./graph/S4\\g12.graphml\n",
      "C:\\Users\\rscaciot22\\OneDrive - Oulun yliopisto\\Documents\\2022\\GRAPH_ENCODER\\Simulation\\cart-pole-main\\GraphEncoder\\./graph/S4\\g13.graphml\n",
      "C:\\Users\\rscaciot22\\OneDrive - Oulun yliopisto\\Documents\\2022\\GRAPH_ENCODER\\Simulation\\cart-pole-main\\GraphEncoder\\./graph/S4\\g14.graphml\n",
      "C:\\Users\\rscaciot22\\OneDrive - Oulun yliopisto\\Documents\\2022\\GRAPH_ENCODER\\Simulation\\cart-pole-main\\GraphEncoder\\./graph/S4\\g15.graphml\n",
      "C:\\Users\\rscaciot22\\OneDrive - Oulun yliopisto\\Documents\\2022\\GRAPH_ENCODER\\Simulation\\cart-pole-main\\GraphEncoder\\./graph/S4\\g16.graphml\n",
      "C:\\Users\\rscaciot22\\OneDrive - Oulun yliopisto\\Documents\\2022\\GRAPH_ENCODER\\Simulation\\cart-pole-main\\GraphEncoder\\./graph/S4\\g17.graphml\n",
      "C:\\Users\\rscaciot22\\OneDrive - Oulun yliopisto\\Documents\\2022\\GRAPH_ENCODER\\Simulation\\cart-pole-main\\GraphEncoder\\./graph/S4\\g18.graphml\n",
      "C:\\Users\\rscaciot22\\OneDrive - Oulun yliopisto\\Documents\\2022\\GRAPH_ENCODER\\Simulation\\cart-pole-main\\GraphEncoder\\./graph/S4\\g19.graphml\n",
      "C:\\Users\\rscaciot22\\OneDrive - Oulun yliopisto\\Documents\\2022\\GRAPH_ENCODER\\Simulation\\cart-pole-main\\GraphEncoder\\./graph/S4\\g20.graphml\n",
      "C:\\Users\\rscaciot22\\OneDrive - Oulun yliopisto\\Documents\\2022\\GRAPH_ENCODER\\Simulation\\cart-pole-main\\GraphEncoder\\./graph/S4\\g21.graphml\n",
      "C:\\Users\\rscaciot22\\OneDrive - Oulun yliopisto\\Documents\\2022\\GRAPH_ENCODER\\Simulation\\cart-pole-main\\GraphEncoder\\./graph/S4\\g22.graphml\n",
      "C:\\Users\\rscaciot22\\OneDrive - Oulun yliopisto\\Documents\\2022\\GRAPH_ENCODER\\Simulation\\cart-pole-main\\GraphEncoder\\./graph/S4\\g23.graphml\n",
      "C:\\Users\\rscaciot22\\OneDrive - Oulun yliopisto\\Documents\\2022\\GRAPH_ENCODER\\Simulation\\cart-pole-main\\GraphEncoder\\./graph/S4\\g24.graphml\n",
      "C:\\Users\\rscaciot22\\OneDrive - Oulun yliopisto\\Documents\\2022\\GRAPH_ENCODER\\Simulation\\cart-pole-main\\GraphEncoder\\./graph/S4\\g25.graphml\n",
      "C:\\Users\\rscaciot22\\OneDrive - Oulun yliopisto\\Documents\\2022\\GRAPH_ENCODER\\Simulation\\cart-pole-main\\GraphEncoder\\./graph/S4\\g26.graphml\n",
      "C:\\Users\\rscaciot22\\OneDrive - Oulun yliopisto\\Documents\\2022\\GRAPH_ENCODER\\Simulation\\cart-pole-main\\GraphEncoder\\./graph/S4\\g27.graphml\n",
      "C:\\Users\\rscaciot22\\OneDrive - Oulun yliopisto\\Documents\\2022\\GRAPH_ENCODER\\Simulation\\cart-pole-main\\GraphEncoder\\./graph/S4\\g28.graphml\n"
     ]
    }
   ],
   "source": [
    "for f in range(counter):\n",
    "    # reading graph\n",
    "    data = 'g' + str(f) + '.graphml'\n",
    "    path = join(folder, data)\n",
    "    print(path)\n",
    "    def read_graph():\n",
    "        graph = nx.read_graphml(path)\n",
    "        return graph\n",
    "\n",
    "    G = read_graph()\n",
    "    F = nx.compose(F,G)\n",
    "    # nx.draw(F)\n",
    "\n",
    "    # pos = nx.spring_layout(F)\n",
    "    # fig = plt.figure(figsize=(10,10))\n",
    "    # nx.draw_networkx_edges(F, with_labels=False, node_size=50, pos=pos, alpha=.3)# node_color=colors,\n",
    "\n",
    "    # for node in F.nodes():\n",
    "    #     w = plt.pie(\n",
    "    #         [1]*counter,\n",
    "    #         center= pos[node],\n",
    "    #       colors=  cmap.colors([f]),\n",
    "    #        radius=0.05,\n",
    "    #    )\n",
    "f += 1"
   ],
   "metadata": {
    "collapsed": false
   }
  },
  {
   "cell_type": "code",
   "execution_count": 60,
   "outputs": [],
   "source": [
    "nx.write_graphml_lxml(F, str(mydir) + 'Concat.graphml')"
   ],
   "metadata": {
    "collapsed": false
   }
  },
  {
   "cell_type": "markdown",
   "source": [
    "### Information about data\n",
    "You have the following attributes:\n",
    "\n",
    "- x the node features, hence it's dimension is number of nodes times feature dimension\n",
    "- edge_index the edge list\n",
    "- y the \"ground truth\"/class labels or in that specific case the classification of the papers. Hence, it's shape is the number of nodes.\n",
    "- The three masks: train_mask, val_mask, test_mask. If I access them via data.train_mask, it gives me a boolean tensor with the length = number of nodes. This is the \"default split\" of the dataset. They should be disjoint and if True the respective node is in that set."
   ],
   "metadata": {
    "collapsed": false
   }
  },
  {
   "cell_type": "code",
   "execution_count": null,
   "outputs": [],
   "source": [
    "from torch_geometric.utils.convert import from_networkx"
   ],
   "metadata": {
    "collapsed": false
   }
  },
  {
   "cell_type": "code",
   "execution_count": null,
   "outputs": [],
   "source": [
    "pyg_graph = from_networkx(F)\n",
    "print(pyg_graph)\n",
    "print(pyg_graph.x)\n",
    "print(pyg_graph.y)\n",
    "print(pyg_graph.edge_index)"
   ],
   "metadata": {
    "collapsed": false
   }
  },
  {
   "cell_type": "code",
   "execution_count": null,
   "outputs": [],
   "source": [
    "# Split the data\n",
    "train_ratio = 0.2\n",
    "num_nodes = pyg_graph.x.shape[0]\n",
    "num_train = int(num_nodes * train_ratio)\n",
    "idx = [i for i in range(num_nodes)]\n",
    "\n",
    "np.random.shuffle(idx)\n",
    "train_mask = torch.full_like(pyg_graph.y, False, dtype=bool)\n",
    "train_mask[idx[:num_train]] = True\n",
    "test_mask = torch.full_like(pyg_graph.y, False, dtype=bool)\n",
    "test_mask[idx[num_train:]] = True\n",
    "val_mask = test_mask\n",
    "\n",
    "print(train_mask)\n",
    "print(test_mask)\n",
    "print(val_mask)"
   ],
   "metadata": {
    "collapsed": false
   }
  },
  {
   "cell_type": "markdown",
   "source": [
    "## 4. Training the VGAE"
   ],
   "metadata": {
    "collapsed": false
   }
  },
  {
   "cell_type": "code",
   "execution_count": null,
   "outputs": [],
   "source": [],
   "metadata": {
    "collapsed": false
   }
  }
 ],
 "metadata": {
  "kernelspec": {
   "display_name": "Python 3",
   "language": "python",
   "name": "python3"
  },
  "language_info": {
   "codemirror_mode": {
    "name": "ipython",
    "version": 2
   },
   "file_extension": ".py",
   "mimetype": "text/x-python",
   "name": "python",
   "nbconvert_exporter": "python",
   "pygments_lexer": "ipython2",
   "version": "2.7.6"
  }
 },
 "nbformat": 4,
 "nbformat_minor": 0
}
